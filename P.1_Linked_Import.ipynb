{
 "cells": [
  {
   "cell_type": "code",
   "execution_count": 2,
   "id": "06e973d5-8b32-444e-a204-181093bd8954",
   "metadata": {},
   "outputs": [],
   "source": [
    "# Create process to import CSV file into SQL Server Database\n",
    "\n",
    "# Python 3.10\n",
    "\n",
    "# file name: Connections_1221\n",
    "#file path: C:\\Users\\snfra\\OneDrive\\Documents\\RAW DATA\\LINKED"
   ]
  },
  {
   "cell_type": "code",
   "execution_count": 2,
   "id": "4ef8e761-36a3-4565-9032-885aa1031843",
   "metadata": {},
   "outputs": [],
   "source": [
    "# import libraries\n",
    "\n",
    "import os\n",
    "import pandas as pd\n",
    "import pyodbc"
   ]
  },
  {
   "cell_type": "code",
   "execution_count": 6,
   "id": "cd97454d-9cf2-4c4c-ae05-e64be6c78474",
   "metadata": {},
   "outputs": [
    {
     "data": {
      "text/plain": [
       "'C:\\\\Users\\\\snfra\\\\OneDrive\\\\Desktop\\\\GITHUB\\\\Linked_Connections'"
      ]
     },
     "execution_count": 6,
     "metadata": {},
     "output_type": "execute_result"
    }
   ],
   "source": [
    "# get current working directory\n",
    "os. getcwd()"
   ]
  },
  {
   "cell_type": "code",
   "execution_count": 9,
   "id": "283d1a82-1d5e-43d1-a0f6-f39402863ab9",
   "metadata": {},
   "outputs": [
    {
     "data": {
      "text/plain": [
       "'C:\\\\Users\\\\snfra\\\\OneDrive\\\\Documents\\\\RAW DATA\\\\Linked'"
      ]
     },
     "execution_count": 9,
     "metadata": {},
     "output_type": "execute_result"
    }
   ],
   "source": [
    "# change working directory\n",
    "os.chdir('C:/Users/snfra/OneDrive/Documents/RAW DATA/Linked')\n",
    "os. getcwd()"
   ]
  },
  {
   "cell_type": "code",
   "execution_count": 10,
   "id": "8969963e-9954-4223-b9d0-166f0c9b6b47",
   "metadata": {},
   "outputs": [
    {
     "data": {
      "text/plain": [
       "['Connections_1221.csv']"
      ]
     },
     "execution_count": 10,
     "metadata": {},
     "output_type": "execute_result"
    }
   ],
   "source": [
    "# list all files in working directory\n",
    "path = 'C:\\\\Users\\\\snfra\\\\OneDrive\\\\Documents\\\\RAW DATA\\\\Linked'\n",
    "\n",
    "linked_files = os.listdir(path)\n",
    "\n",
    "linked_files\n"
   ]
  },
  {
   "cell_type": "code",
   "execution_count": 11,
   "id": "31867d48-fb90-46ac-ad1c-0bac92901833",
   "metadata": {},
   "outputs": [
    {
     "data": {
      "text/html": [
       "<div>\n",
       "<style scoped>\n",
       "    .dataframe tbody tr th:only-of-type {\n",
       "        vertical-align: middle;\n",
       "    }\n",
       "\n",
       "    .dataframe tbody tr th {\n",
       "        vertical-align: top;\n",
       "    }\n",
       "\n",
       "    .dataframe thead th {\n",
       "        text-align: right;\n",
       "    }\n",
       "</style>\n",
       "<table border=\"1\" class=\"dataframe\">\n",
       "  <thead>\n",
       "    <tr style=\"text-align: right;\">\n",
       "      <th></th>\n",
       "      <th>First Name</th>\n",
       "      <th>Last Name</th>\n",
       "      <th>Email Address</th>\n",
       "      <th>Company</th>\n",
       "      <th>Position</th>\n",
       "      <th>Connected On</th>\n",
       "    </tr>\n",
       "  </thead>\n",
       "  <tbody>\n",
       "    <tr>\n",
       "      <th>0</th>\n",
       "      <td>Amanda</td>\n",
       "      <td>Somers</td>\n",
       "      <td>NaN</td>\n",
       "      <td>SailPoint</td>\n",
       "      <td>Sr. Recruiter, Sales Engineering</td>\n",
       "      <td>3-Dec-21</td>\n",
       "    </tr>\n",
       "    <tr>\n",
       "      <th>1</th>\n",
       "      <td>Aaron</td>\n",
       "      <td>Stalter, MPA</td>\n",
       "      <td>NaN</td>\n",
       "      <td>State of Missouri</td>\n",
       "      <td>Information Technology Project Manager</td>\n",
       "      <td>3-Dec-21</td>\n",
       "    </tr>\n",
       "    <tr>\n",
       "      <th>2</th>\n",
       "      <td>Dawn</td>\n",
       "      <td>Ryder</td>\n",
       "      <td>NaN</td>\n",
       "      <td>State of Missouri</td>\n",
       "      <td>Information Technology Project Manager</td>\n",
       "      <td>3-Dec-21</td>\n",
       "    </tr>\n",
       "    <tr>\n",
       "      <th>3</th>\n",
       "      <td>George</td>\n",
       "      <td>Welling</td>\n",
       "      <td>NaN</td>\n",
       "      <td>State of Missouri</td>\n",
       "      <td>ITSD Enterprise Resource Recruiter</td>\n",
       "      <td>3-Dec-21</td>\n",
       "    </tr>\n",
       "    <tr>\n",
       "      <th>4</th>\n",
       "      <td>Kelleri</td>\n",
       "      <td>Riegel</td>\n",
       "      <td>NaN</td>\n",
       "      <td>Fairygodboss</td>\n",
       "      <td>Senior Product Manager</td>\n",
       "      <td>2-Dec-21</td>\n",
       "    </tr>\n",
       "  </tbody>\n",
       "</table>\n",
       "</div>"
      ],
      "text/plain": [
       "  First Name     Last Name Email Address            Company  \\\n",
       "0     Amanda        Somers           NaN          SailPoint   \n",
       "1      Aaron  Stalter, MPA           NaN  State of Missouri   \n",
       "2       Dawn         Ryder           NaN  State of Missouri   \n",
       "3     George       Welling           NaN  State of Missouri   \n",
       "4    Kelleri        Riegel           NaN       Fairygodboss   \n",
       "\n",
       "                                 Position Connected On  \n",
       "0        Sr. Recruiter, Sales Engineering     3-Dec-21  \n",
       "1  Information Technology Project Manager     3-Dec-21  \n",
       "2  Information Technology Project Manager     3-Dec-21  \n",
       "3      ITSD Enterprise Resource Recruiter     3-Dec-21  \n",
       "4                  Senior Product Manager     2-Dec-21  "
      ]
     },
     "execution_count": 11,
     "metadata": {},
     "output_type": "execute_result"
    }
   ],
   "source": [
    "data = pd.read_csv('Connections_1221.csv')   \n",
    "data.head()"
   ]
  },
  {
   "cell_type": "code",
   "execution_count": 13,
   "id": "d6acad93-ae68-468f-937d-d82412b5096d",
   "metadata": {},
   "outputs": [
    {
     "data": {
      "text/plain": [
       "Index(['First Name', 'Last Name', 'Email Address', 'Company', 'Position',\n",
       "       'Connected On'],\n",
       "      dtype='object')"
      ]
     },
     "execution_count": 13,
     "metadata": {},
     "output_type": "execute_result"
    }
   ],
   "source": [
    "# view column names\n",
    "\n",
    "data.columns"
   ]
  },
  {
   "cell_type": "code",
   "execution_count": 16,
   "id": "4b11d502-7044-450a-8b0a-f05c8b954a17",
   "metadata": {},
   "outputs": [
    {
     "data": {
      "text/plain": [
       "Index(['First_name', 'Last_name', 'Email_address', 'Company', 'Position',\n",
       "       'Connected_on'],\n",
       "      dtype='object')"
      ]
     },
     "execution_count": 16,
     "metadata": {},
     "output_type": "execute_result"
    }
   ],
   "source": [
    "# clean the column names\n",
    "\n",
    "data.columns = [x.capitalize().replace(\" \", \"_\").replace(\"-\",\"_\").replace(r\"/\",\"_\").replace(\"\\\\\",\"_\").replace(\"$\",\"\") \\\n",
    "                              .replace(\"%\",\"\").replace(\"?\",\"\").replace(\")\",\"\").replace(\"(\",\"\") for x in data.columns]\n",
    "                \n",
    "data.columns"
   ]
  },
  {
   "cell_type": "code",
   "execution_count": null,
   "id": "c6b32d65-08f1-460f-9645-295037c19d2f",
   "metadata": {},
   "outputs": [],
   "source": []
  }
 ],
 "metadata": {
  "kernelspec": {
   "display_name": "Python 3",
   "language": "python",
   "name": "python3"
  },
  "language_info": {
   "codemirror_mode": {
    "name": "ipython",
    "version": 3
   },
   "file_extension": ".py",
   "mimetype": "text/x-python",
   "name": "python",
   "nbconvert_exporter": "python",
   "pygments_lexer": "ipython3",
   "version": "3.8.8"
  }
 },
 "nbformat": 4,
 "nbformat_minor": 5
}
