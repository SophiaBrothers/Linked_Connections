{
 "cells": [
  {
   "cell_type": "code",
   "execution_count": 2,
   "id": "06e973d5-8b32-444e-a204-181093bd8954",
   "metadata": {},
   "outputs": [],
   "source": [
    "# Create process to import CSV file into SQL Server Database\n",
    "\n",
    "# Python 3.10\n",
    "\n",
    "# file name: Connections_1221\n",
    "#file path: C:\\Users\\snfra\\OneDrive\\Documents\\RAW DATA\\LINKED"
   ]
  },
  {
   "cell_type": "code",
   "execution_count": 1,
   "id": "4ef8e761-36a3-4565-9032-885aa1031843",
   "metadata": {},
   "outputs": [],
   "source": [
    "# import libraries\n",
    "\n",
    "import os\n",
    "import pandas as pd\n",
    "import numpy as np\n",
    "import pyodbc  # to connect to SQL Server\n",
    "\n",
    "# use the following in VS code python terminal: right click > run selection\\line...\n",
    "#pip install pyodbc "
   ]
  },
  {
   "cell_type": "code",
   "execution_count": 2,
   "id": "cd97454d-9cf2-4c4c-ae05-e64be6c78474",
   "metadata": {},
   "outputs": [
    {
     "data": {
      "text/plain": [
       "'C:\\\\Users\\\\snfra\\\\OneDrive\\\\Desktop\\\\GITHUB\\\\Linked_Connections'"
      ]
     },
     "execution_count": 2,
     "metadata": {},
     "output_type": "execute_result"
    }
   ],
   "source": [
    "# get current working directory\n",
    "os. getcwd()"
   ]
  },
  {
   "cell_type": "code",
   "execution_count": 3,
   "id": "283d1a82-1d5e-43d1-a0f6-f39402863ab9",
   "metadata": {},
   "outputs": [
    {
     "data": {
      "text/plain": [
       "'C:\\\\Users\\\\snfra\\\\OneDrive\\\\Documents\\\\RAW DATA\\\\Linked'"
      ]
     },
     "execution_count": 3,
     "metadata": {},
     "output_type": "execute_result"
    }
   ],
   "source": [
    "# change working directory\n",
    "os.chdir('C:/Users/snfra/OneDrive/Documents/RAW DATA/Linked')\n",
    "os. getcwd()"
   ]
  },
  {
   "cell_type": "code",
   "execution_count": 4,
   "id": "8969963e-9954-4223-b9d0-166f0c9b6b47",
   "metadata": {},
   "outputs": [
    {
     "data": {
      "text/plain": [
       "['Connections_1221.csv']"
      ]
     },
     "execution_count": 4,
     "metadata": {},
     "output_type": "execute_result"
    }
   ],
   "source": [
    "# list all files in working directory\n",
    "path = 'C:\\\\Users\\\\snfra\\\\OneDrive\\\\Documents\\\\RAW DATA\\\\Linked'\n",
    "\n",
    "linked_files = os.listdir(path)\n",
    "\n",
    "linked_files\n"
   ]
  },
  {
   "cell_type": "code",
   "execution_count": 6,
   "id": "31867d48-fb90-46ac-ad1c-0bac92901833",
   "metadata": {},
   "outputs": [
    {
     "data": {
      "text/html": [
       "<div>\n",
       "<style scoped>\n",
       "    .dataframe tbody tr th:only-of-type {\n",
       "        vertical-align: middle;\n",
       "    }\n",
       "\n",
       "    .dataframe tbody tr th {\n",
       "        vertical-align: top;\n",
       "    }\n",
       "\n",
       "    .dataframe thead th {\n",
       "        text-align: right;\n",
       "    }\n",
       "</style>\n",
       "<table border=\"1\" class=\"dataframe\">\n",
       "  <thead>\n",
       "    <tr style=\"text-align: right;\">\n",
       "      <th></th>\n",
       "      <th>First Name</th>\n",
       "      <th>Last Name</th>\n",
       "      <th>Email Address</th>\n",
       "      <th>Company</th>\n",
       "      <th>Position</th>\n",
       "      <th>Connected On</th>\n",
       "    </tr>\n",
       "  </thead>\n",
       "  <tbody>\n",
       "    <tr>\n",
       "      <th>0</th>\n",
       "      <td>Amanda</td>\n",
       "      <td>Somers</td>\n",
       "      <td>NaN</td>\n",
       "      <td>SailPoint</td>\n",
       "      <td>Sr. Recruiter, Sales Engineering</td>\n",
       "      <td>3-Dec-21</td>\n",
       "    </tr>\n",
       "    <tr>\n",
       "      <th>1</th>\n",
       "      <td>Aaron</td>\n",
       "      <td>Stalter, MPA</td>\n",
       "      <td>NaN</td>\n",
       "      <td>State of Missouri</td>\n",
       "      <td>Information Technology Project Manager</td>\n",
       "      <td>3-Dec-21</td>\n",
       "    </tr>\n",
       "    <tr>\n",
       "      <th>2</th>\n",
       "      <td>Dawn</td>\n",
       "      <td>Ryder</td>\n",
       "      <td>NaN</td>\n",
       "      <td>State of Missouri</td>\n",
       "      <td>Information Technology Project Manager</td>\n",
       "      <td>3-Dec-21</td>\n",
       "    </tr>\n",
       "    <tr>\n",
       "      <th>3</th>\n",
       "      <td>George</td>\n",
       "      <td>Welling</td>\n",
       "      <td>NaN</td>\n",
       "      <td>State of Missouri</td>\n",
       "      <td>ITSD Enterprise Resource Recruiter</td>\n",
       "      <td>3-Dec-21</td>\n",
       "    </tr>\n",
       "    <tr>\n",
       "      <th>4</th>\n",
       "      <td>Kelleri</td>\n",
       "      <td>Riegel</td>\n",
       "      <td>NaN</td>\n",
       "      <td>Fairygodboss</td>\n",
       "      <td>Senior Product Manager</td>\n",
       "      <td>2-Dec-21</td>\n",
       "    </tr>\n",
       "  </tbody>\n",
       "</table>\n",
       "</div>"
      ],
      "text/plain": [
       "  First Name     Last Name Email Address            Company  \\\n",
       "0     Amanda        Somers           NaN          SailPoint   \n",
       "1      Aaron  Stalter, MPA           NaN  State of Missouri   \n",
       "2       Dawn         Ryder           NaN  State of Missouri   \n",
       "3     George       Welling           NaN  State of Missouri   \n",
       "4    Kelleri        Riegel           NaN       Fairygodboss   \n",
       "\n",
       "                                 Position Connected On  \n",
       "0        Sr. Recruiter, Sales Engineering     3-Dec-21  \n",
       "1  Information Technology Project Manager     3-Dec-21  \n",
       "2  Information Technology Project Manager     3-Dec-21  \n",
       "3      ITSD Enterprise Resource Recruiter     3-Dec-21  \n",
       "4                  Senior Product Manager     2-Dec-21  "
      ]
     },
     "execution_count": 6,
     "metadata": {},
     "output_type": "execute_result"
    }
   ],
   "source": [
    "linked = pd.read_csv('Connections_1221.csv')   \n",
    "linked.head()"
   ]
  },
  {
   "cell_type": "code",
   "execution_count": 7,
   "id": "d6acad93-ae68-468f-937d-d82412b5096d",
   "metadata": {},
   "outputs": [
    {
     "data": {
      "text/plain": [
       "Index(['First Name', 'Last Name', 'Email Address', 'Company', 'Position',\n",
       "       'Connected On'],\n",
       "      dtype='object')"
      ]
     },
     "execution_count": 7,
     "metadata": {},
     "output_type": "execute_result"
    }
   ],
   "source": [
    "# view column names\n",
    "\n",
    "linked.columns"
   ]
  },
  {
   "cell_type": "code",
   "execution_count": 57,
   "id": "4b11d502-7044-450a-8b0a-f05c8b954a17",
   "metadata": {},
   "outputs": [
    {
     "data": {
      "text/plain": [
       "Index(['First_Name', 'Last_Name', 'Email_Address', 'Company', 'Position',\n",
       "       'Connected_On'],\n",
       "      dtype='object')"
      ]
     },
     "execution_count": 57,
     "metadata": {},
     "output_type": "execute_result"
    }
   ],
   "source": [
    "# clean the column names\n",
    "\n",
    "linked.columns = [x.title().replace(\" \", \"_\").replace(\"-\",\"_\").replace(r\"/\",\"_\").replace(\"\\\\\",\"_\").replace(\"$\",\"\") \\\n",
    "                              .replace(\"%\",\"\").replace(\"?\",\"\").replace(\")\",\"\").replace(\"(\",\"\") for x in linked.columns]\n",
    "                \n",
    "linked.columns"
   ]
  },
  {
   "cell_type": "code",
   "execution_count": 58,
   "id": "c6b32d65-08f1-460f-9645-295037c19d2f",
   "metadata": {},
   "outputs": [
    {
     "data": {
      "text/plain": [
       "First_Name       object\n",
       "Last_Name        object\n",
       "Email_Address    object\n",
       "Company          object\n",
       "Position         object\n",
       "Connected_On     object\n",
       "dtype: object"
      ]
     },
     "execution_count": 58,
     "metadata": {},
     "output_type": "execute_result"
    }
   ],
   "source": [
    "# viewing data types of this panda dataframe\n",
    "linked.dtypes"
   ]
  },
  {
   "cell_type": "code",
   "execution_count": null,
   "id": "5ad9178c-e426-4c81-b496-b5e02542fdaa",
   "metadata": {},
   "outputs": [],
   "source": [
    "# SQl script to create table in database\n",
    "create table Connections_1221\n",
    "(\n",
    "    First_Name       varchar,\n",
    "    Last_Name         varchar,\n",
    "    Email_Address       varchar,\n",
    "    Company             varchar,\n",
    "    Position          varchar,\n",
    "    Connected_On         varchar,\n",
    ");\n",
    "\n"
   ]
  },
  {
   "cell_type": "code",
   "execution_count": 59,
   "id": "d588d42d",
   "metadata": {},
   "outputs": [
    {
     "data": {
      "text/plain": [
       "('First_Name  varchar, Last_Name  varchar, Email_Address  varchar, Company  varchar, Position  varchar, Connected_On  varchar',\n",
       " Index(['First_Name', 'Last_Name', 'Email_Address', 'Company', 'Position',\n",
       "        'Connected_On'],\n",
       "       dtype='object'))"
      ]
     },
     "execution_count": 59,
     "metadata": {},
     "output_type": "execute_result"
    }
   ],
   "source": [
    "# CREATING A FUNCTION THAT CLEANS THE COLUMN NAME AND CORRECTS DATA TYPES.\n",
    "\n",
    "def cleaned_columns(dataframe):\n",
    "\n",
    "      \n",
    "    # clean the column names\n",
    "    linked.columns = [x.title().replace(\" \", \"_\").replace(\"-\",\"_\").replace(r\"/\",\"_\").replace(\"\\\\\",\"_\").replace(\"$\",\"\") \\\n",
    "                              .replace(\"%\",\"\").replace(\"?\",\"\").replace(\")\",\"\").replace(\"(\",\"\") for x in linked.columns]\n",
    "    \n",
    "    \n",
    "    #processing data\n",
    "    replacements = {\n",
    "        'timedelta64[ns]': 'varchar',\n",
    "        'object': 'varchar',\n",
    "        'float64': 'float',\n",
    "        'int64': 'int',\n",
    "        'datetime64': 'timestamp'\n",
    "    }\n",
    "\n",
    "    col_type = \", \".join(\"{}  {}\".format(n, d) for (n, d) in zip(linked.columns, linked.dtypes.replace(replacements)))\n",
    "    \n",
    "    return col_type, dataframe.columns\n",
    "\n",
    "\n",
    "\n",
    "# calling the function\n",
    "cleaned_columns(linked)   # pass in a dataframe"
   ]
  },
  {
   "cell_type": "code",
   "execution_count": 8,
   "id": "30d3fa2e",
   "metadata": {},
   "outputs": [
    {
     "name": "stdout",
     "output_type": "stream",
     "text": [
      "Connections_1221\n"
     ]
    },
    {
     "data": {
      "text/plain": [
       "('First_Name  varchar, Last_Name  varchar, Email_Address  varchar, Company  varchar, Position  varchar, Connected_On  varchar',\n",
       " Index(['First_Name', 'Last_Name', 'Email_Address', 'Company', 'Position',\n",
       "        'Connected_On'],\n",
       "       dtype='object'))"
      ]
     },
     "execution_count": 8,
     "metadata": {},
     "output_type": "execute_result"
    }
   ],
   "source": [
    "# CREATING A FUNCTION THAT CLEANS THE TABLE NAME, COLUMN NAME,AND CORRECTS DATA TYPES.\n",
    "\n",
    "def cleaned_table(dataframe):\n",
    "    \n",
    "    #removing '.csv' so its not included on the table name in the database\n",
    "    new_tbl_name = format(linked_files[0].split('.')[0])   # pulling the first file from 'linked_files' list\n",
    "\n",
    "    print(new_tbl_name)\n",
    "\n",
    " \n",
    "    \n",
    "    # clean the column names\n",
    "    linked.columns = [x.title().replace(\" \", \"_\").replace(\"-\",\"_\").replace(r\"/\",\"_\").replace(\"\\\\\",\"_\").replace(\"$\",\"\") \\\n",
    "                              .replace(\"%\",\"\").replace(\"?\",\"\").replace(\")\",\"\").replace(\"(\",\"\") for x in linked.columns]\n",
    "    \n",
    "    \n",
    "    #processing data\n",
    "    replacements = {\n",
    "        'timedelta64[ns]': 'varchar',\n",
    "        'object': 'varchar',\n",
    "        'float64': 'float',\n",
    "        'int64': 'int',\n",
    "        'datetime64': 'timestamp'\n",
    "    }\n",
    "\n",
    "    col_type = \", \".join(\"{}  {}\".format(n, d) for (n, d) in zip(linked.columns, linked.dtypes.replace(replacements)))\n",
    "    \n",
    "    return col_type, dataframe.columns\n",
    "\n",
    "\n",
    "\n",
    "# calling the function\n",
    "cleaned_table(linked)   # pass in a dataframe"
   ]
  },
  {
   "cell_type": "code",
   "execution_count": 9,
   "id": "31aa20ec-571b-423f-9959-22d6f7c6bf9c",
   "metadata": {},
   "outputs": [],
   "source": [
    "# Open a database connection \n",
    "\n",
    "conn = pyodbc.connect('Driver={ODBC Driver 17 for SQL Server};'\n",
    "                      'Server=LAPTOP-0CKQK2E3\\;'\n",
    "                      'Database=LinkedDB;'\n",
    "                      'Trusted_Connection=yes;')\n",
    "\n",
    "cursor = conn.cursor()"
   ]
  },
  {
   "cell_type": "code",
   "execution_count": 18,
   "id": "57c09a0a-406c-443e-86bb-cb1fc27f974f",
   "metadata": {},
   "outputs": [
    {
     "data": {
      "text/plain": [
       "<pyodbc.Cursor at 0x24057a64830>"
      ]
     },
     "execution_count": 18,
     "metadata": {},
     "output_type": "execute_result"
    }
   ],
   "source": [
    "# test connection\n",
    "\n",
    "q1 = \"DROP TABLE IF EXISTS dbo.Connections_1221\"\n",
    "\n",
    "cursor.execute(q1)"
   ]
  },
  {
   "cell_type": "code",
   "execution_count": 19,
   "id": "c5437224-aed0-41ab-9fb4-b657e27e4613",
   "metadata": {},
   "outputs": [
    {
     "data": {
      "text/plain": [
       "<pyodbc.Cursor at 0x24057a64830>"
      ]
     },
     "execution_count": 19,
     "metadata": {},
     "output_type": "execute_result"
    }
   ],
   "source": [
    "q2 = \"CREATE TABLE Connections_1221 (First_Name       varchar, Last_Name         varchar, Email_Address       varchar, Company             varchar,Position          varchar,Connected_On         varchar);\"\n",
    "    \n",
    "#q2 = \"create table Connections_1221 \n",
    "\n",
    "\n",
    "cursor.execute(q2)\n"
   ]
  },
  {
   "cell_type": "code",
   "execution_count": 20,
   "id": "56f9f232-43ec-4a52-b1f0-ad0b3ba7bb5b",
   "metadata": {},
   "outputs": [],
   "source": [
    "# close the connection\n",
    "\n",
    "conn.close()"
   ]
  },
  {
   "cell_type": "code",
   "execution_count": null,
   "id": "2c54e216-a160-4ce6-b247-2a44ea703143",
   "metadata": {},
   "outputs": [],
   "source": []
  }
 ],
 "metadata": {
  "kernelspec": {
   "display_name": "Python 3",
   "language": "python",
   "name": "python3"
  },
  "language_info": {
   "codemirror_mode": {
    "name": "ipython",
    "version": 3
   },
   "file_extension": ".py",
   "mimetype": "text/x-python",
   "name": "python",
   "nbconvert_exporter": "python",
   "pygments_lexer": "ipython3",
   "version": "3.8.8"
  }
 },
 "nbformat": 4,
 "nbformat_minor": 5
}
