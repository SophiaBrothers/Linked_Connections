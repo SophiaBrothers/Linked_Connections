{
 "cells": [
  {
   "cell_type": "code",
   "execution_count": 2,
   "id": "06e973d5-8b32-444e-a204-181093bd8954",
   "metadata": {},
   "outputs": [],
   "source": [
    "# Create process to import CSV file into SQL Server Database\n",
    "\n",
    "# file name: Connections_1221\n",
    "#file path: C:\\Users\\snfra\\OneDrive\\Documents\\RAW DATA\\LINKED"
   ]
  },
  {
   "cell_type": "code",
   "execution_count": 3,
   "id": "4ef8e761-36a3-4565-9032-885aa1031843",
   "metadata": {},
   "outputs": [],
   "source": [
    "# import libraries\n",
    "\n",
    "import pandas as pd\n",
    "import pyodbc"
   ]
  },
  {
   "cell_type": "code",
   "execution_count": null,
   "id": "c6b32d65-08f1-460f-9645-295037c19d2f",
   "metadata": {},
   "outputs": [],
   "source": []
  }
 ],
 "metadata": {
  "kernelspec": {
   "display_name": "Python 3",
   "language": "python",
   "name": "python3"
  },
  "language_info": {
   "codemirror_mode": {
    "name": "ipython",
    "version": 3
   },
   "file_extension": ".py",
   "mimetype": "text/x-python",
   "name": "python",
   "nbconvert_exporter": "python",
   "pygments_lexer": "ipython3",
   "version": "3.8.8"
  }
 },
 "nbformat": 4,
 "nbformat_minor": 5
}
